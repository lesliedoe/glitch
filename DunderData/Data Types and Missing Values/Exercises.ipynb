{
 "cells": [
  {
   "cell_type": "code",
   "execution_count": 1,
   "metadata": {},
   "outputs": [],
   "source": [
    "import pandas as pd\n",
    "bikes = pd.read_csv(r'bikes.csv')"
   ]
  },
  {
   "cell_type": "code",
   "execution_count": 2,
   "metadata": {},
   "outputs": [
    {
     "data": {
      "text/plain": [
       "trip_id                int64\n",
       "gender                object\n",
       "starttime             object\n",
       "stoptime              object\n",
       "tripduration           int64\n",
       "from_station_name     object\n",
       "dpcapacity_start     float64\n",
       "to_station_name       object\n",
       "dpcapacity_end       float64\n",
       "temperature          float64\n",
       "visibility           float64\n",
       "wind_speed           float64\n",
       "precipitation        float64\n",
       "events                object\n",
       "dtype: object"
      ]
     },
     "execution_count": 2,
     "metadata": {},
     "output_type": "execute_result"
    }
   ],
   "source": [
    "bikes.dtypes\n",
    "# returns a list of columns with their associated data type"
   ]
  },
  {
   "cell_type": "code",
   "execution_count": 4,
   "metadata": {},
   "outputs": [
    {
     "data": {
      "text/plain": [
       "(50089, 14)"
      ]
     },
     "execution_count": 4,
     "metadata": {},
     "output_type": "execute_result"
    }
   ],
   "source": [
    "bikes.shape\n",
    "# returns the number of rows by the number of colums"
   ]
  },
  {
   "cell_type": "code",
   "execution_count": 5,
   "metadata": {},
   "outputs": [
    {
     "name": "stdout",
     "output_type": "stream",
     "text": [
      "<class 'pandas.core.frame.DataFrame'>\n",
      "RangeIndex: 50089 entries, 0 to 50088\n",
      "Data columns (total 14 columns):\n",
      " #   Column             Non-Null Count  Dtype  \n",
      "---  ------             --------------  -----  \n",
      " 0   trip_id            50089 non-null  int64  \n",
      " 1   gender             50089 non-null  object \n",
      " 2   starttime          50089 non-null  object \n",
      " 3   stoptime           50089 non-null  object \n",
      " 4   tripduration       50089 non-null  int64  \n",
      " 5   from_station_name  50089 non-null  object \n",
      " 6   dpcapacity_start   50083 non-null  float64\n",
      " 7   to_station_name    50089 non-null  object \n",
      " 8   dpcapacity_end     50077 non-null  float64\n",
      " 9   temperature        50089 non-null  float64\n",
      " 10  visibility         50089 non-null  float64\n",
      " 11  wind_speed         50089 non-null  float64\n",
      " 12  precipitation      50089 non-null  float64\n",
      " 13  events             50089 non-null  object \n",
      "dtypes: float64(6), int64(2), object(6)\n",
      "memory usage: 5.4+ MB\n"
     ]
    }
   ],
   "source": [
    "bikes.info()"
   ]
  },
  {
   "cell_type": "code",
   "execution_count": 8,
   "metadata": {},
   "outputs": [
    {
     "name": "stdout",
     "output_type": "stream",
     "text": [
      "<class 'pandas.core.frame.DataFrame'>\n",
      "RangeIndex: 50089 entries, 0 to 50088\n",
      "Data columns (total 14 columns):\n",
      " #   Column             Non-Null Count  Dtype  \n",
      "---  ------             --------------  -----  \n",
      " 0   trip_id            50089 non-null  int64  \n",
      " 1   gender             50089 non-null  object \n",
      " 2   starttime          50089 non-null  object \n",
      " 3   stoptime           50089 non-null  object \n",
      " 4   tripduration       50089 non-null  int64  \n",
      " 5   from_station_name  50089 non-null  object \n",
      " 6   dpcapacity_start   50083 non-null  float64\n",
      " 7   to_station_name    50089 non-null  object \n",
      " 8   dpcapacity_end     50077 non-null  float64\n",
      " 9   temperature        50089 non-null  float64\n",
      " 10  visibility         50089 non-null  float64\n",
      " 11  wind_speed         50089 non-null  float64\n",
      " 12  precipitation      50089 non-null  float64\n",
      " 13  events             50089 non-null  object \n",
      "dtypes: float64(6), int64(2), object(6)\n",
      "memory usage: 24.1 MB\n"
     ]
    }
   ],
   "source": [
    "bikes.info(memory_usage='deep')"
   ]
  }
 ],
 "metadata": {
  "kernelspec": {
   "display_name": "Python 3",
   "language": "python",
   "name": "python3"
  },
  "language_info": {
   "codemirror_mode": {
    "name": "ipython",
    "version": 3
   },
   "file_extension": ".py",
   "mimetype": "text/x-python",
   "name": "python",
   "nbconvert_exporter": "python",
   "pygments_lexer": "ipython3",
   "version": "3.11.1"
  },
  "orig_nbformat": 4
 },
 "nbformat": 4,
 "nbformat_minor": 2
}
